{
 "cells": [
  {
   "cell_type": "code",
   "execution_count": null,
   "metadata": {},
   "outputs": [],
   "source": [
    "from pyspectrum import Spectrometer, usb_spectrometer, Spectrum, Data"
   ]
  },
  {
   "cell_type": "code",
   "execution_count": null,
   "metadata": {},
   "outputs": [],
   "source": [
    "device = Spectrometer(usb_spectrometer(reopen=True))\n",
    "device.set_config(\n",
    "    exposure=1, n_times=1000,\n",
    "    wavelength_calibration_path='data/profile.json' \n",
    ")\n",
    "\n",
    "device.read_dark_signal(n_times=1000)"
   ]
  },
  {
   "cell_type": "code",
   "execution_count": null,
   "metadata": {},
   "outputs": [],
   "source": [
    "spectrum = device.read()\n",
    "spectrum.save('recorded_spectrum')"
   ]
  }
 ],
 "metadata": {
  "language_info": {
   "name": "python"
  },
  "orig_nbformat": 4
 },
 "nbformat": 4,
 "nbformat_minor": 2
}
